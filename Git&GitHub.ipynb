{
 "cells": [
  {
   "cell_type": "markdown",
   "id": "80885b06",
   "metadata": {},
   "source": [
    "# Git and GitHub"
   ]
  },
  {
   "cell_type": "markdown",
   "id": "4bd919a8",
   "metadata": {},
   "source": [
    "![alt text](img/git-github.jpeg)"
   ]
  },
  {
   "cell_type": "markdown",
   "id": "4f477e07",
   "metadata": {},
   "source": [
    "based on https://betterexplained.com/articles/a-visual-guide-to-version-control/\n",
    "\n",
    "in ita: https://marklodato.github.io/visual-git-guide/index-it.html\n",
    "\n",
    "short: https://rogerdudler.github.io/git-guide/"
   ]
  },
  {
   "cell_type": "markdown",
   "id": "0e38924c",
   "metadata": {},
   "source": [
    "According to wikipedia Git is a distributed version control system: tracking changes in any set of files, usually used for coordinating work among programmers collaboratively developing source code during software development.\n",
    "\n",
    "Instead GitHub is a Microstoft owned service (yes i know...) that add to Git some interesting feature about access control, bug tracking, software feature requests, task management, continuous integration, and wikis for every project.  \n",
    "\n",
    "Git is free and open source, while GitHub offers free and paid products but is mainly used to host open source software development projects. "
   ]
  },
  {
   "cell_type": "markdown",
   "id": "d85a0113",
   "metadata": {},
   "source": [
    "# Intro"
   ]
  },
  {
   "cell_type": "markdown",
   "id": "338196b4",
   "metadata": {},
   "source": [
    "Git is a Version Control System and lets you track your files over time.\n",
    "\n",
    "But why we should use it?"
   ]
  },
  {
   "cell_type": "markdown",
   "id": "31b83230",
   "metadata": {},
   "source": [
    "* Backup and Restore\n",
    "* Synchronization\n",
    "* Undo\n",
    "* Track Changes\n",
    "* Track Ownership\n",
    "* Sandboxing\n",
    "* Branching and merging"
   ]
  },
  {
   "cell_type": "markdown",
   "id": "e5b22f6d",
   "metadata": {},
   "source": [
    "With the purpose of convincing you lets go deep for every element:\n"
   ]
  },
  {
   "cell_type": "markdown",
   "id": "635e3ac4",
   "metadata": {},
   "source": [
    "##### Backup and Restore\n",
    "Any changes on the files are saved and you can go back to an older verison at any time.\n",
    "##### Synchronization\n",
    "When people share files they are all at the last verison.\n",
    "##### Undo\n",
    "It is possible to have small undo for instance yesterday or even long time undo for example last year. Depending on when the damage occurred 😊.\n",
    "##### Track Changes\n",
    "When you change the file you can leave comments to explain why are you changing the code. The comments are outside the files!\n",
    "##### Track Ownership\n",
    "Every change is marked with the name of the person who did it.\n",
    "##### Sandboxing\n",
    "You can make temporany changes in an isolated area and do your tests.\n",
    "##### Branching and merging\n",
    "You can branch a copy of your code and separately modify it and traking changes. Later you can merge your work back."
   ]
  },
  {
   "cell_type": "markdown",
   "id": "da635e56",
   "metadata": {},
   "source": [
    "*It these problems seem familiar 😉, git can be your solution* "
   ]
  },
  {
   "cell_type": "markdown",
   "id": "7cb39fb5",
   "metadata": {},
   "source": [
    "# Terminology"
   ]
  },
  {
   "cell_type": "markdown",
   "id": "cb5b2892",
   "metadata": {},
   "source": [
    "Some concepts are shared among different version control systems, although the labels may differ."
   ]
  },
  {
   "cell_type": "markdown",
   "id": "d9276cfa",
   "metadata": {},
   "source": [
    "* **About Setup**\n",
    "    * Repository or repo → Where file are stored (database)\n",
    "    * Server → the computer storing the repo\n",
    "    * Client → the computer connecting to the repo\n",
    "    * Working Set/Copy → your local files with your local changes\n",
    "    * Main/Trunk → the main code path in the repo\n",
    "<br><br>    \n",
    "* **About Actions**\n",
    "    * Add → Put a file into the repo for the first time\n",
    "    * Revision → The version of the file\n",
    "    * Head → The last revision\n",
    "    * Check out → Download the filefrom the repo\n",
    "    * Check in → Upload a file to the repository, the file get a new revision number\n",
    "    * Checkin Message → A short string describing what was changed\n",
    "    * Changelog/History → A list of all che changes made to a file since it was created\n",
    "    * Update/Sync → Syncronize your files with the last version from the repo\n",
    "    * Revert → Throw away your local changes and reload lastest verison from the repository\n",
    "<br><br>    \n",
    "* **Advanced**\n",
    "    * Branch → Create a separata copy of a file7folder for private use (bug fixing, testing, etc)\n",
    "    * Diff/Change/Delta → Find the differences between two revisions\n",
    "    * Merge/Patch → Apply changes from one file to another\n",
    "    * Conflict → When some changes to a file cannot be applied because one contradicts the other\n",
    "    * Resolve → Fixing the changes that contradict each other and checking in the correct version\n",
    "    * Locking → Block a file so nobody else can edit it\n",
    "    * Breacking the lock → Force the unlocking of a file \n",
    "    * Check out for edit: Checking out an “editable” version of a file. Some VCSes have editable files by default, others require an explicit command."
   ]
  },
  {
   "cell_type": "markdown",
   "id": "d8ed0ad9",
   "metadata": {},
   "source": [
    "# Visual examples"
   ]
  },
  {
   "cell_type": "markdown",
   "id": "b1c59305",
   "metadata": {},
   "source": [
    "A tipical scenario could be:\n",
    "\n",
    "    Alice adds a file (list.txt) to the repository. She checks it out, makes a change (puts “milk” on the list), and checks it back in with a checkin message (“Added required item.”). The next morning, Bob updates his local working set and sees the latest revision of list.txt, which contains “milk”. He can browse the changelog or diff to see that Alice put “milk” the day before."
   ]
  },
  {
   "cell_type": "markdown",
   "id": "805d5649",
   "metadata": {},
   "source": [
    "### Init"
   ]
  },
  {
   "cell_type": "markdown",
   "id": "8121aeba",
   "metadata": {},
   "source": [
    "First we need to download git, for this tutorial we will proceed on Windows: https://gitforwindows.org/"
   ]
  },
  {
   "cell_type": "markdown",
   "id": "b072b58e",
   "metadata": {},
   "source": [
    "Now we will indroduce Git-Hub"
   ]
  },
  {
   "cell_type": "markdown",
   "id": "8b37cdc0",
   "metadata": {},
   "source": [
    "Git-Hub offers many interesting functions for free and also a GUI to manage some actions more easily, so now go to: https://github.com and create your account. It is even possible to use a desktop version: https://desktop.github.com/"
   ]
  },
  {
   "cell_type": "markdown",
   "id": "e9a3e7b7",
   "metadata": {},
   "source": [
    "Then you are ready to create you first repository click on New repository in the top right corner:"
   ]
  },
  {
   "cell_type": "markdown",
   "id": "96286b63",
   "metadata": {},
   "source": [
    "![alt text](img/1hub.JPG)"
   ]
  },
  {
   "cell_type": "markdown",
   "id": "f0fae1e4",
   "metadata": {},
   "source": [
    "After that you should see this section:"
   ]
  },
  {
   "cell_type": "markdown",
   "id": "9db88f6e",
   "metadata": {},
   "source": [
    "![alt text](img/2hub.JPG)"
   ]
  },
  {
   "cell_type": "markdown",
   "id": "0bc9022c",
   "metadata": {},
   "source": [
    "Let us explain further:\n",
    "* Choose the name of the repo, which will be created as https://github.com/username/repo_name (this is the name of the server).\n",
    "* It can be public or private, we will mainly work on private repos.\n",
    "* Always add the readme file, to explain what the project is.\n",
    "* The .gitignore section is very useful when you want to avoid pushing credentials or other private or unnecessary files.\n",
    "* The license section is more related to public repositories."
   ]
  },
  {
   "cell_type": "markdown",
   "id": "4fb87663",
   "metadata": {},
   "source": [
    "So at the end you can see you server name:"
   ]
  },
  {
   "cell_type": "markdown",
   "id": "639858b2",
   "metadata": {},
   "source": [
    "![alt text](img/3hub.JPG)"
   ]
  },
  {
   "cell_type": "markdown",
   "id": "530752ae",
   "metadata": {},
   "source": [
    "Actually a repository is done by 3 elements:\n",
    "* The **working directory** that holds the actual files\n",
    "* The **index/stage** that works as staging area\n",
    "* The **history** is the list of versions "
   ]
  },
  {
   "cell_type": "markdown",
   "id": "91c7724f",
   "metadata": {},
   "source": [
    "![alt text](img/worflow.png)"
   ]
  },
  {
   "cell_type": "markdown",
   "id": "8df1666c",
   "metadata": {},
   "source": [
    "You have to imagine the history as a tree. Each branch represents a version of the project and multiple branches can coexist, for this you define as head the current branch"
   ]
  },
  {
   "cell_type": "markdown",
   "id": "88345a2b",
   "metadata": {},
   "source": [
    "![alt text](img/hist.png)"
   ]
  },
  {
   "cell_type": "markdown",
   "id": "30a66144",
   "metadata": {},
   "source": [
    "### Init"
   ]
  },
  {
   "cell_type": "markdown",
   "id": "44f88af9",
   "metadata": {},
   "source": [
    "Open the shell and set some information:\n",
    "\n",
    "`git config --global user.name \"Nome Cognome\"`\n",
    "\n",
    "`git config --global user.email \"indirizzo_email@dominio.com\"`"
   ]
  },
  {
   "cell_type": "markdown",
   "id": "7ec9bdc9",
   "metadata": {},
   "source": [
    "To initializing a repository navigate to a folder and run the command: `git init`\n",
    "\n",
    "We can also copy a repository from a folder `git clone /path/to/repository`\n",
    "\n",
    "or from a remote server `git clone username@host:/path/to/repository`"
   ]
  },
  {
   "cell_type": "markdown",
   "id": "6addec04",
   "metadata": {},
   "source": [
    "If you want to connect your local repository to a remote server you can use: `git remote add origin <server>`"
   ]
  },
  {
   "cell_type": "markdown",
   "id": "5783d7a8",
   "metadata": {},
   "source": [
    "Origin is a local alias. It is set by default when cloning a repository from a remote URL. It is used to avoid writing for each push the URL. You can change this name, but at your own risk."
   ]
  },
  {
   "cell_type": "markdown",
   "id": "71a54a8d",
   "metadata": {},
   "source": [
    "Let's create an example repo:\n",
    "\n",
    "**Care some is bash language!!!**\n",
    "\n",
    "Open GitBash\n",
    "\n",
    "Create the folder: `mkdir git_test`\n",
    "\n",
    "Move to that folder: `cd git_test`\n",
    "\n",
    "Initialize: `git init`\n",
    "\n",
    "Create a file: `touch lista.txt`\n",
    "\n",
    "We can add the file as: `git add lista.txt` now it is in the index!\n",
    "\n",
    "Than: `git commit -m \"Initial commit\"` now it is in the head"
   ]
  },
  {
   "cell_type": "markdown",
   "id": "8fd1087b",
   "metadata": {},
   "source": [
    "The `-m` flag is the message to use for this checkin.\n",
    "\n",
    "If you will note use the `-m` flag you have to use these commands to manage the editor (Vim):\n",
    "\n",
    "    Esc – switch to command mode\n",
    "    :w – write out changes that were made\n",
    "    :q – exit Vim\n",
    "    :q! – exit Vim and discard any changes\n",
    "    :wq – saves the changes, and exits Vim\n",
    "    :x – save the changes made, and exits Vim"
   ]
  },
  {
   "cell_type": "markdown",
   "id": "9f450642",
   "metadata": {},
   "source": [
    "### Checkins"
   ]
  },
  {
   "cell_type": "markdown",
   "id": "e180225a",
   "metadata": {},
   "source": [
    "The simplest scenario is checking in a file (list.txt) and modifying it over time."
   ]
  },
  {
   "cell_type": "markdown",
   "id": "6e85f525",
   "metadata": {},
   "source": [
    "![alt text](img/b_ch_in.png)"
   ]
  },
  {
   "cell_type": "markdown",
   "id": "0ff7a5e4",
   "metadata": {},
   "source": [
    "Each time we check in a new version, we get a new revision (r1, r2, r3, etc.)."
   ]
  },
  {
   "cell_type": "markdown",
   "id": "73300290",
   "metadata": {},
   "source": [
    "Here an example:\n",
    "\n",
    "Write on the file: `echo \"Milk\" >> lista.txt`\n",
    "\n",
    "Than: `git commit -am \"Changed the list\"`\n",
    "\n",
    "Here -a means add all changes and commit\n",
    "\n",
    "and again: `(echo \"Egg\" && echo \"Juice\" && echo \"Soup\") >> lista.txt`\n",
    "\n",
    "with: `git commit -am \"Another change\"`\n",
    "\n",
    "Ispect with `git log --oneline`"
   ]
  },
  {
   "cell_type": "markdown",
   "id": "d19634df",
   "metadata": {},
   "source": [
    "![alt text](img/log_git.JPG)"
   ]
  },
  {
   "cell_type": "markdown",
   "id": "504709fc",
   "metadata": {},
   "source": [
    "### Checkouts and Editing"
   ]
  },
  {
   "cell_type": "markdown",
   "id": "c3e680f6",
   "metadata": {},
   "source": [
    "You can check out a file do some modification and then you can check in."
   ]
  },
  {
   "cell_type": "markdown",
   "id": "0a09d52a",
   "metadata": {},
   "source": [
    "![alt text](img/co_e.png)"
   ]
  },
  {
   "cell_type": "markdown",
   "id": "b62a91dc",
   "metadata": {},
   "source": [
    "If you don't like your edits you can revert to a previous version"
   ]
  },
  {
   "cell_type": "markdown",
   "id": "489936a3",
   "metadata": {},
   "source": [
    "Here an example:\n",
    "\n",
    "Go to the last version `git checkout .`\n",
    "\n",
    "Remove last line and edit: `sed -i '$ d' lista.txt && echo \"Rice\" >> lista.txt`\n",
    "\n",
    "Now the changes are only on the local folder so: `git commit -am \"Sub\"`"
   ]
  },
  {
   "cell_type": "markdown",
   "id": "b8923180",
   "metadata": {},
   "source": [
    "Now Imagine that you have made a mistake and want to go back.\n",
    "\n",
    "You can use: `git revert HEAD --no-edit` to revert last commit (`--no-edit` is used to not write a commit message)\n",
    "\n",
    "Actually `revet` hold the progress of changes while `reset` can delete them too. \n",
    "\n",
    "So now: `cat lista.txt` produce the r4 version of the file"
   ]
  },
  {
   "cell_type": "markdown",
   "id": "46b7ceff",
   "metadata": {},
   "source": [
    "Now we do the right changes: `(echo \"Juice\" && echo \"Rice\") >> lista.txt`\n",
    "\n",
    "And we push: `git commit -am \"Right changes\"`"
   ]
  },
  {
   "cell_type": "markdown",
   "id": "cc401650",
   "metadata": {},
   "source": [
    "Attention here you may notice an error in the number of versions... Can you tell why?"
   ]
  },
  {
   "cell_type": "markdown",
   "id": "db9e4864",
   "metadata": {},
   "source": [
    "### Tagging"
   ]
  },
  {
   "cell_type": "markdown",
   "id": "6a3f8bf4",
   "metadata": {},
   "source": [
    "Often is useful to give a specific tag to a commit, you can use: `git tag v1`\n",
    "\n",
    "This will give v1 tag to the actual commit. You can see it with `git show` or `git log --oneline`:"
   ]
  },
  {
   "cell_type": "markdown",
   "id": "e70537a6",
   "metadata": {},
   "source": [
    "![alt text](img/show.JPG)"
   ]
  },
  {
   "cell_type": "markdown",
   "id": "5f2a6ec7",
   "metadata": {},
   "source": [
    "### Diffs"
   ]
  },
  {
   "cell_type": "markdown",
   "id": "bc674a2b",
   "metadata": {},
   "source": [
    "The command diff is used to see the differences between versions:"
   ]
  },
  {
   "cell_type": "markdown",
   "id": "495d4070",
   "metadata": {},
   "source": [
    "Let's add a new element: `echo \"Water\" >> lista.txt`\n",
    "\n",
    "So we can run: `git diff`\n",
    "\n",
    "That produce:\n"
   ]
  },
  {
   "cell_type": "markdown",
   "id": "008fa5b4",
   "metadata": {},
   "source": [
    "![alt text](img/diff.JPG)"
   ]
  },
  {
   "cell_type": "markdown",
   "id": "d14aaf13",
   "metadata": {},
   "source": [
    "### Branching"
   ]
  },
  {
   "cell_type": "markdown",
   "id": "485a84dd",
   "metadata": {},
   "source": [
    "Water is now only on the working directory.\n",
    "\n",
    "We can create a new branch in order to separate this edit from the main: `git checkout -b alt`\n",
    "\n",
    "In this way we create and switch to a new branch\n",
    "\n",
    "Let's see with: `git branch`"
   ]
  },
  {
   "cell_type": "markdown",
   "id": "7206f02c",
   "metadata": {},
   "source": [
    "![alt text](img/branch.JPG)"
   ]
  },
  {
   "cell_type": "markdown",
   "id": "57dc493d",
   "metadata": {},
   "source": [
    "Having a dedicated branch for each new feature makes easy to try new experiments without the fear of destroying existing functionality, and it makes it possible to work on many unrelated features at the same time. In addition, branches also facilitate several collaborative workflows."
   ]
  },
  {
   "cell_type": "markdown",
   "id": "08e933cf",
   "metadata": {},
   "source": [
    "Save our changes with `git commit -am \"2ndb\"`"
   ]
  },
  {
   "cell_type": "markdown",
   "id": "718a8149",
   "metadata": {},
   "source": [
    "![alt text](img/2nd.JPG)"
   ]
  },
  {
   "cell_type": "markdown",
   "id": "f1753563",
   "metadata": {},
   "source": [
    "You can navigate between branches with the command: `git checkout master`; in the branch master Water is not in the list!"
   ]
  },
  {
   "cell_type": "markdown",
   "id": "d84f2f05",
   "metadata": {},
   "source": [
    "### Merging"
   ]
  },
  {
   "cell_type": "markdown",
   "id": "04dabb9a",
   "metadata": {},
   "source": [
    "Let's now merge the master with the alt branch. Imagine that you are working on your project and then while it is in production you want to add some new features. You can create a branch(alt), do your changes then while you have finished you can merge back the two branches with : `git merge alt`"
   ]
  },
  {
   "cell_type": "markdown",
   "id": "105c8ab2",
   "metadata": {},
   "source": [
    "![alt text](img/merge.JPG)"
   ]
  },
  {
   "cell_type": "markdown",
   "id": "3a58c49e",
   "metadata": {},
   "source": [
    "Now you have again Water in your list, but you have two identical branches so we cna delete one with: `git branch -d alt`"
   ]
  },
  {
   "cell_type": "markdown",
   "id": "5647f452",
   "metadata": {},
   "source": [
    "### Conflicts"
   ]
  },
  {
   "cell_type": "markdown",
   "id": "eade6f7e",
   "metadata": {},
   "source": [
    "A few time (cross your finger) will happen that some conflict while merging will be arised. A conflict arises when two separate branches have made edits to the same line in a file, or when a file has been deleted in one branch but edited in the other. Conflicts will most likely happen when working in a team environment.\n",
    "\n",
    "Let's try to reproduce it:"
   ]
  },
  {
   "cell_type": "markdown",
   "id": "1acc3557",
   "metadata": {},
   "source": [
    "Delete some raws: `sed -i '3,4d' lista.txt`"
   ]
  },
  {
   "cell_type": "markdown",
   "id": "7ee5fd2b",
   "metadata": {},
   "source": [
    "and add some new ones: `(echo \"Ham\" && echo \"Apple\") >> lista.txt`"
   ]
  },
  {
   "cell_type": "markdown",
   "id": "1aea015a",
   "metadata": {},
   "source": [
    "Now we create a new branch: `git checkout -b alt2`"
   ]
  },
  {
   "cell_type": "markdown",
   "id": "03d98786",
   "metadata": {},
   "source": [
    "and save the result: `git commit -am \"some_miss\"`"
   ]
  },
  {
   "cell_type": "markdown",
   "id": "c9d93710",
   "metadata": {},
   "source": [
    "Move to master: `git checkout master`"
   ]
  },
  {
   "cell_type": "markdown",
   "id": "3c786048",
   "metadata": {},
   "source": [
    "Create the conflict: `echo \"Banana\" >> lista.txt`"
   ]
  },
  {
   "cell_type": "markdown",
   "id": "98a209c0",
   "metadata": {},
   "source": [
    "Save again: `git commit -am \"right_path\"`"
   ]
  },
  {
   "cell_type": "markdown",
   "id": "32c92ae2",
   "metadata": {},
   "source": [
    "When you try to merge: `git merge alt2` this will happen:"
   ]
  },
  {
   "cell_type": "markdown",
   "id": "4615f49f",
   "metadata": {},
   "source": [
    "![alt text](img/conf.JPG)"
   ]
  },
  {
   "cell_type": "markdown",
   "id": "1b1ea923",
   "metadata": {},
   "source": [
    "Let us try to inspect the file with `cat lista.txt`"
   ]
  },
  {
   "cell_type": "markdown",
   "id": "dddae7f5",
   "metadata": {},
   "source": [
    "![alt text](img/what_happened.JPG)"
   ]
  },
  {
   "cell_type": "markdown",
   "id": "a51a5842",
   "metadata": {},
   "source": [
    "git added to our file some lines:\n",
    "* `=======` is the center of the conflic\n",
    "\n",
    "* from `<<<<<<< HEAD` to the center is the content that exists in the current branch main which the HEAD ref is pointing to\n",
    "\n",
    "* from the center to `>>>>>>> alt2` is content that is present in our merging branch"
   ]
  },
  {
   "cell_type": "markdown",
   "id": "ac5c5718",
   "metadata": {},
   "source": [
    "Generally the easy way to solve a conflict is to edit the file that generate it and than finalize the merge with a commit. "
   ]
  },
  {
   "cell_type": "markdown",
   "id": "14cfe58f",
   "metadata": {},
   "source": [
    "Btw these are some commands that can be useful, use them with thrift:\n",
    "\n",
    "`git status` shows pending commits\n",
    "\n",
    "`git merge --abort` deletes the merge (removing the lines seen above)\n",
    "\n",
    "`git reset --hard HEAD~1` remove your last commit forever"
   ]
  },
  {
   "cell_type": "markdown",
   "id": "6714130a",
   "metadata": {},
   "source": [
    "If you instead want to drop all your local changes and commits, fetch the latest history from the server: `git fetch origin`\n",
    "\n",
    "and point your local master branch at it like this: `git reset --hard origin/master`"
   ]
  },
  {
   "cell_type": "markdown",
   "id": "5190fd74",
   "metadata": {},
   "source": [
    "### Push - Pull"
   ]
  },
  {
   "cell_type": "markdown",
   "id": "05d166f2",
   "metadata": {},
   "source": [
    "The git push command is used to transfer or push the commit, which is made on a local branch in your computer to a remote repository like GitHub. The git repo is considered as \"remote\", but it can be a repo in another folder of your hard drive."
   ]
  },
  {
   "cell_type": "markdown",
   "id": "7544d7c7",
   "metadata": {},
   "source": [
    "To push your local content to you online repo you can: `git push -u origin master`\n",
    "\n",
    "`-u` flag git sets the branch you are pushing to as the remote tracking branch of the branch you are pushing"
   ]
  },
  {
   "cell_type": "markdown",
   "id": "e263123c",
   "metadata": {},
   "source": [
    "`git pull` is a combination command, equal to `git fetch` + `git merge`"
   ]
  },
  {
   "cell_type": "markdown",
   "id": "62df16c7",
   "metadata": {},
   "source": [
    "For example: `git pull origin master` download the latest changes from the \"master\" branch of the remote repository named \"origin\". Once you run this command, Git will download all the changes from the \"master\" branch of \"origin\" and merge them with your current local branch."
   ]
  },
  {
   "cell_type": "markdown",
   "id": "27f7aa79",
   "metadata": {},
   "source": [
    "It's important to note that if you have made changes in your local repository, before doing the pull, Git will try to automatically merge your changes with the ones downloaded. If there are conflicts between the changes, Git will prompt you to resolve them manually before continuing."
   ]
  },
  {
   "cell_type": "markdown",
   "id": "c54fed19",
   "metadata": {},
   "source": [
    "# Exercises"
   ]
  },
  {
   "cell_type": "markdown",
   "id": "d5a7f4c8",
   "metadata": {},
   "source": [
    "### Exercise 1"
   ]
  },
  {
   "cell_type": "markdown",
   "id": "76aabeca",
   "metadata": {},
   "source": [
    "*    Create a new local Git repository on your computer, and initialize it.\n",
    "*    Create a new file in the repository called \"test.txt\" and add some text to it.\n",
    "*    Use the `git add` command to add the \"test.txt\" file to the staging area.\n",
    "*    Use the `git commit` command to commit the file to the repository, with a commit message of \"Initial commit.\"\n",
    "*    Use the `git log` command to view the commit history of the repository.\n",
    "*    Make some changes to the \"test.txt\" file and save them.\n",
    "*    Use the `git diff` command to view the changes you just made to the file.\n",
    "*    Use the `git status` command to view the status of the repository.\n",
    "*    Use the `git add` and `git commit` commands to commit the changes you made to the file, with a commit message of \"Made some changes.\"\n",
    "*    Use the `git log` command to view the commit history of the repository again.\n",
    "*    Use the `git branch` command to view the branches in the repository.\n",
    "*    Create a new branch called \"experiment\" using the `git branch` command.\n",
    "*    Use the `git checkout` command to switch to the \"experiment\" branch.\n",
    "*    Create a new file called \"experiment.txt\" and add some text to it.\n",
    "*    Use the `git add` and `git commit` commands to commit the new file to the \"experiment\" branch, with a commit message of \"Added a new file.\"\n",
    "*    Use the `git log` command to view the commit history of the \"experiment\" branch.\n",
    "*    Use the `git merge` command to merge the \"experiment\" branch into the \"master\" branch.\n",
    "*    Use the `git branch -d` command to delete the \"experiment\" branch."
   ]
  },
  {
   "cell_type": "markdown",
   "id": "b3eab4e2",
   "metadata": {},
   "source": [
    "### Exercise 2 (group) "
   ]
  },
  {
   "cell_type": "markdown",
   "id": "020b0c66",
   "metadata": {},
   "source": [
    "This is a group exercise in which 3 people are involved:\n",
    "\n",
    "DE,DS,PM have to collaborate in order to solve the exercise, it is mandatory to comment on commits.\n",
    "\n",
    "Execute the command `test_env\\Scripts\\activate.bat` to work together with the same libraries\n",
    "\n",
    "* DE: Create a local repository and link it to https://github.com/mattiadri/git_course_etc.git\n",
    "* DE: Create a test.csv file consisting of two columns using python; the first a datetime with frequency one hour of 7 days and the second with random values\n",
    "* DE: Pull from remote repository'\n",
    "* DE: Push the file missing\n",
    "* DS: Clone the repo locally and create a rs.py file that calculates the 3-hour average resampling of the time series and draw it in an image.png as output, where x is the first column and y is the second column of the test.csv file\n",
    "* DS: Push the files\n",
    "* PM: Create locally a verificato.txt empty file and pull the repo\n",
    "* PM: Remove from the test.csv file a random day with excel and overwite the file leaving the empty rows\n",
    "* PM: Push the changes\n",
    "* DS: Checkout last changes and fix the rs.py handling the error\n",
    "* DS: Push the modifications\n",
    "* PM: Get the last version of the code and write 1 in the first line of the verificato.txt file and delete last row of test.csv file\n",
    "* DE: Branch the repo from the stage where the file verificato.txt was empty holding all the old commits\n",
    "* DE: Tag this branch as stable\n",
    "* DS: Push the last version of rs.py on the stable branch\n",
    "* PM: Pull the repo stable and write 2 in the first line of the verificato.txt file and delete first row of test.csv file"
   ]
  },
  {
   "cell_type": "markdown",
   "id": "31b58b5a",
   "metadata": {},
   "source": [
    "### Exercise 3"
   ]
  },
  {
   "cell_type": "markdown",
   "id": "fbc59d2a",
   "metadata": {},
   "source": [
    "https://www.w3schools.com/git/exercise.asp?filename=exercise_getstarted1"
   ]
  }
 ],
 "metadata": {
  "kernelspec": {
   "display_name": "Python [conda env:d3]",
   "language": "python",
   "name": "conda-env-d3-py"
  },
  "language_info": {
   "codemirror_mode": {
    "name": "ipython",
    "version": 3
   },
   "file_extension": ".py",
   "mimetype": "text/x-python",
   "name": "python",
   "nbconvert_exporter": "python",
   "pygments_lexer": "ipython3",
   "version": "3.8.8"
  }
 },
 "nbformat": 4,
 "nbformat_minor": 5
}
